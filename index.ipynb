{
 "cells": [
  {
   "cell_type": "markdown",
   "metadata": {},
   "source": [
    "# Database Admin 101 - Lab\n",
    "\n",
    "## Introduction \n",
    "\n",
    "In this lab you'll go through the process of designing and creating a database. From there, you'll also begin to populate this table with mock data provided to you.\n",
    "\n",
    "## Objectives\n",
    "\n",
    "You will be able to:\n",
    "\n",
    "* Create a SQL database\n",
    "* Create a SQL table\n",
    "* Create rows in a SQL table\n",
    "* Alter entries in a SQL table\n",
    "* Delete entries in a SQL table\n",
    "* Commit changes via sqlite3\n"
   ]
  },
  {
   "cell_type": "markdown",
   "metadata": {},
   "source": [
    "## The Scenario\n",
    "\n",
    "You are looking to design a database for a school which will house various information from student grades to contact information, class roster lists and attendance. First, think of how you would design such a database and record some of your ideas below."
   ]
  },
  {
   "cell_type": "markdown",
   "metadata": {},
   "source": [
    "# Your Answer Here\n",
    "\n",
    "Record some information here about how you would design such a database. What table would you include? What columns would each table have? What would be the primary means to join said tables?"
   ]
  },
  {
   "cell_type": "markdown",
   "metadata": {},
   "source": [
    "## Creating the Database\n",
    "\n",
    "Now that you've put a little thought into how you might design your database, it's time to go ahead and create it! Start by import the necessary packages. Then, create a database called **school.sqlite**."
   ]
  },
  {
   "cell_type": "code",
   "execution_count": 2,
   "metadata": {},
   "outputs": [],
   "source": [
    "#Your code here; import necessary packages\n",
    "import sqlite3\n",
    "conn = sqlite3.connect('school.sqlite')\n",
    "c = conn.cursor()"
   ]
  },
  {
   "cell_type": "code",
   "execution_count": null,
   "metadata": {},
   "outputs": [],
   "source": [
    "#Your code here; create the database school.sqlite"
   ]
  },
  {
   "cell_type": "markdown",
   "metadata": {},
   "source": [
    "## Create a Table for Contact Information\n",
    "\n",
    "Create a table called contactInfo to house contact information for both students and staff. Be sure to include columns for first name, last name, role (student/staff), email, telephone number, street, city, state and zipcode. Be sure to also create a primary key for the table. "
   ]
  },
  {
   "cell_type": "code",
   "execution_count": 12,
   "metadata": {},
   "outputs": [],
   "source": [
    "#Your code here\n",
    "import pickle\n",
    "import pandas as pd\n",
    "\n",
    "with open('contact_list.pickle', 'rb') as f:\n",
    "    contacts = pickle.load(f)\n"
   ]
  },
  {
   "cell_type": "code",
   "execution_count": 13,
   "metadata": {},
   "outputs": [
    {
     "data": {
      "text/plain": [
       "[{'firstName': 'Christine',\n",
       "  'lastName': 'Holden',\n",
       "  'role': 'staff',\n",
       "  'telephone ': 2035687697,\n",
       "  'street': '1672 Whitman Court',\n",
       "  'city': 'Stamford',\n",
       "  'state': 'CT',\n",
       "  'zipcode ': '06995'},\n",
       " {'firstName': 'Christopher',\n",
       "  'lastName': 'Warren',\n",
       "  'role': 'student',\n",
       "  'telephone ': 2175150957,\n",
       "  'street': '1935 University Hill Road',\n",
       "  'city': 'Champaign',\n",
       "  'state': 'IL',\n",
       "  'zipcode ': '61938'},\n",
       " {'firstName': 'Linda',\n",
       "  'lastName': 'Jacobson',\n",
       "  'role': 'staff',\n",
       "  'telephone ': 4049446441,\n",
       "  'street': '479 Musgrave Street',\n",
       "  'city': 'Atlanta',\n",
       "  'state': 'GA',\n",
       "  'zipcode ': '30303'},\n",
       " {'firstName': 'Andrew',\n",
       "  'lastName': 'Stepp',\n",
       "  'role': 'student',\n",
       "  'telephone ': 7866419252,\n",
       "  'street': '2981 Lamberts Branch Road',\n",
       "  'city': 'Hialeah',\n",
       "  'state': 'Fl',\n",
       "  'zipcode ': '33012'},\n",
       " {'firstName': 'Jane',\n",
       "  'lastName': 'Evans',\n",
       "  'role': 'student',\n",
       "  'telephone ': 3259909290,\n",
       "  'street': '1461 Briarhill Lane',\n",
       "  'city': 'Abilene',\n",
       "  'state': 'TX',\n",
       "  'zipcode ': '79602'},\n",
       " {'firstName': 'Jane',\n",
       "  'lastName': 'Evans',\n",
       "  'role': 'student',\n",
       "  'telephone ': 3259909290,\n",
       "  'street': '1461 Briarhill Lane',\n",
       "  'city': 'Abilene',\n",
       "  'state': 'TX',\n",
       "  'zipcode ': '79602'},\n",
       " {'firstName': 'Mary',\n",
       "  'lastName': 'Raines',\n",
       "  'role': 'student',\n",
       "  'telephone ': 9075772295,\n",
       "  'street': '3975 Jerry Toth Drive',\n",
       "  'city': 'Ninilchik',\n",
       "  'state': 'AK',\n",
       "  'zipcode ': '99639'},\n",
       " {'firstName': 'Ed',\n",
       "  'lastName': 'Lyman',\n",
       "  'role': 'student',\n",
       "  'telephone ': 5179695576,\n",
       "  'street': '3478 Be Sreet',\n",
       "  'city': 'Lansing',\n",
       "  'state': 'MI',\n",
       "  'zipcode ': '48933'}]"
      ]
     },
     "execution_count": 13,
     "metadata": {},
     "output_type": "execute_result"
    }
   ],
   "source": [
    "contacts"
   ]
  },
  {
   "cell_type": "markdown",
   "metadata": {},
   "source": [
    "## Populate the Table\n",
    "\n",
    "Below, code is provided for you in order to load a list of dictionaries. Briefly examine the list. Each dictionary in the list will serve as an entry for your contact info table. Once you've briefly investigated the structure of this data, write a for loop to iterate through the list and create an entry in your table for each person's contact info."
   ]
  },
  {
   "cell_type": "code",
   "execution_count": 15,
   "metadata": {},
   "outputs": [
    {
     "data": {
      "text/plain": [
       "<sqlite3.Cursor at 0x7f08182e75e0>"
      ]
     },
     "execution_count": 15,
     "metadata": {},
     "output_type": "execute_result"
    }
   ],
   "source": [
    "# Code to load the list of dictionaries; just run this cell\n",
    "c.execute(\"\"\"CREATE TABLE contacts (\n",
    "            ID integer primary key,\n",
    "            city varchar(255),\n",
    "            firstName varchar(255),\n",
    "            lastName varchar(255),\n",
    "            role varchar(255),\n",
    "            state varchar(255),\n",
    "            street varchar(255),\n",
    "            telephone varchar(255),\n",
    "            zipcode varchar(255))\"\"\")"
   ]
  },
  {
   "cell_type": "code",
   "execution_count": 25,
   "metadata": {},
   "outputs": [],
   "source": [
    "for contact in contacts:\n",
    "    city1 = contact['city']\n",
    "    firstName1 = contact['firstName']\n",
    "    lastName1 = contact['lastName']\n",
    "    role1 = contact['role']\n",
    "    phone1 = contact['telephone ']\n",
    "    state1 = contact['state']\n",
    "    street1 = contact['street']\n",
    "    zipcode1 = contact['zipcode ']\n",
    "    c.execute(\"\"\"INSERT INTO contacts (city, firstName, lastName, role, state, street, telephone, zipcode)\n",
    "                VALUES (\"{}\",\"{}\",\"{}\",\"{}\"\"{}\"\"{}\"\"{}\"\"{});\n",
    "                \"\"\"\".format(city1, firstName1, lastName1, role1, state1, street1, phone1, zipcode1))\n",
    "    c.execute(\"\"\"INSERT INTO contacts (firstName, lastName, role, telephone, street, city, state, zipcode) \n",
    "                  VALUES ('{}', '{}', '{}', '{}', '{}', '{}', '{}', '{}');\n",
    "            \"\"\".format(firstName1, lastName1, role1, phone1, street1, city1, state1, zipcode1)\n",
    "           )"
   ]
  },
  {
   "cell_type": "code",
   "execution_count": 26,
   "metadata": {},
   "outputs": [
    {
     "data": {
      "text/plain": [
       "[]"
      ]
     },
     "execution_count": 26,
     "metadata": {},
     "output_type": "execute_result"
    }
   ],
   "source": [
    "# Your code to iterate over the contact list and populate the contactInfo table here\n",
    "c.fetchall()"
   ]
  },
  {
   "cell_type": "code",
   "execution_count": 9,
   "metadata": {},
   "outputs": [
    {
     "ename": "OperationalError",
     "evalue": "no such table: contacts",
     "output_type": "error",
     "traceback": [
      "\u001b[0;31m\u001b[0m",
      "\u001b[0;31mOperationalError\u001b[0mTraceback (most recent call last)",
      "\u001b[0;32m<ipython-input-9-b132477b1dcf>\u001b[0m in \u001b[0;36m<module>\u001b[0;34m()\u001b[0m\n\u001b[1;32m      1\u001b[0m \u001b[0;31m# Query the Table to Ensure it is populated\u001b[0m\u001b[0;34m\u001b[0m\u001b[0;34m\u001b[0m\u001b[0m\n\u001b[0;32m----> 2\u001b[0;31m \u001b[0mc\u001b[0m\u001b[0;34m.\u001b[0m\u001b[0mexecute\u001b[0m\u001b[0;34m(\u001b[0m\u001b[0;34m\"\"\"SELECT * FROM contacts\"\"\"\u001b[0m\u001b[0;34m)\u001b[0m\u001b[0;34m\u001b[0m\u001b[0m\n\u001b[0m",
      "\u001b[0;31mOperationalError\u001b[0m: no such table: contacts"
     ]
    }
   ],
   "source": [
    "# Query the Table to Ensure it is populated\n",
    "c.execute(\"\"\"SELECT * FROM contacts\"\"\")"
   ]
  },
  {
   "cell_type": "code",
   "execution_count": null,
   "metadata": {},
   "outputs": [],
   "source": [
    "#Your code here"
   ]
  },
  {
   "cell_type": "markdown",
   "metadata": {},
   "source": [
    "## Commit Your Changes to the Database\n",
    "\n",
    "Persist your changes by committing them to the database."
   ]
  },
  {
   "cell_type": "code",
   "execution_count": null,
   "metadata": {},
   "outputs": [],
   "source": [
    "#Your code here"
   ]
  },
  {
   "cell_type": "markdown",
   "metadata": {},
   "source": [
    "## Create a Table for Student Grades\n",
    "\n",
    "Create a new table in the database called \"grades\". In the table, include the following fields: userId, courseId, grade.\n",
    "\n",
    "** This problem is a bit more tricky and will require a dual key. (A nuance you have yet to see.)\n",
    "Here's how to do that:\n",
    "\n",
    "```SQL\n",
    "CREATE TABLE table_name(\n",
    "   column_1 INTEGER NOT NULL,\n",
    "   column_2 INTEGER NOT NULL,\n",
    "   ...\n",
    "   PRIMARY KEY(column_1,column_2,...)\n",
    ");\n",
    "```"
   ]
  },
  {
   "cell_type": "code",
   "execution_count": null,
   "metadata": {},
   "outputs": [],
   "source": [
    "#Your code here; create the grades table."
   ]
  },
  {
   "cell_type": "markdown",
   "metadata": {},
   "source": [
    "## Remove Duplicate Entries\n",
    "\n",
    "An analyst just realized that there is a duplicate entry in the contactInfo table! Find and remove it."
   ]
  },
  {
   "cell_type": "code",
   "execution_count": null,
   "metadata": {},
   "outputs": [],
   "source": [
    "#Your code here; find the duplicate entry"
   ]
  },
  {
   "cell_type": "code",
   "execution_count": null,
   "metadata": {},
   "outputs": [],
   "source": [
    "#Your code here; delete the duplicate entry"
   ]
  },
  {
   "cell_type": "code",
   "execution_count": null,
   "metadata": {},
   "outputs": [],
   "source": [
    "#Your code here; check that the duplicate entry was removed."
   ]
  },
  {
   "cell_type": "markdown",
   "metadata": {},
   "source": [
    "## Updating an Address\n",
    "\n",
    "Ed Lyman just moved to 2910 Simpson Avenue York, PA 17403. Update his address accordingly."
   ]
  },
  {
   "cell_type": "code",
   "execution_count": null,
   "metadata": {},
   "outputs": [],
   "source": [
    "#Your code here; update Ed's address"
   ]
  },
  {
   "cell_type": "markdown",
   "metadata": {},
   "source": [
    "## Commit Your Changes to the Database\n",
    "\n",
    "Once again, persist your changes by committing them to the database."
   ]
  },
  {
   "cell_type": "code",
   "execution_count": null,
   "metadata": {},
   "outputs": [],
   "source": [
    "#Your code here"
   ]
  },
  {
   "cell_type": "markdown",
   "metadata": {},
   "source": [
    "## Summary\n",
    "\n",
    "While there's certainly more to do with setting up and managing this database, you certainly got a taste for creating, populating and maintaining databases! Feel free to continue fleshing out this exercise to continue practicing. "
   ]
  }
 ],
 "metadata": {
  "kernelspec": {
   "display_name": "Python 3",
   "language": "python",
   "name": "python3"
  },
  "language_info": {
   "codemirror_mode": {
    "name": "ipython",
    "version": 3
   },
   "file_extension": ".py",
   "mimetype": "text/x-python",
   "name": "python",
   "nbconvert_exporter": "python",
   "pygments_lexer": "ipython3",
   "version": "3.6.6"
  }
 },
 "nbformat": 4,
 "nbformat_minor": 2
}
