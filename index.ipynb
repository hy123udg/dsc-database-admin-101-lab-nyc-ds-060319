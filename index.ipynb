{
 "cells": [
  {
   "cell_type": "markdown",
   "metadata": {},
   "source": [
    "# Database Admin 101 - Lab\n",
    "\n",
    "## Introduction \n",
    "\n",
    "In this lab you'll go through the process of designing and creating a database. From there, you'll also begin to populate this table with mock data provided to you.\n",
    "\n",
    "## Objectives\n",
    "\n",
    "You will be able to:\n",
    "\n",
    "* Create a SQL database\n",
    "* Create a SQL table\n",
    "* Create rows in a SQL table\n",
    "* Alter entries in a SQL table\n",
    "* Delete entries in a SQL table\n",
    "* Commit changes via sqlite3\n"
   ]
  },
  {
   "cell_type": "markdown",
   "metadata": {},
   "source": [
    "## The Scenario\n",
    "\n",
    "You are looking to design a database for a school which will house various information from student grades to contact information, class roster lists and attendance. First, think of how you would design such a database and record some of your ideas below."
   ]
  },
  {
   "cell_type": "markdown",
   "metadata": {},
   "source": [
    "# Your Answer Here\n",
    "\n",
    "Record some information here about how you would design such a database. What table would you include? What columns would each table have? What would be the primary means to join said tables?"
   ]
  },
  {
   "cell_type": "markdown",
   "metadata": {},
   "source": [
    "## Creating the Database\n",
    "\n",
    "Now that you've put a little thought into how you might design your database, it's time to go ahead and create it! Start by import the necessary packages. Then, create a database called **school.sqlite**."
   ]
  },
  {
   "cell_type": "code",
   "execution_count": 49,
   "metadata": {},
   "outputs": [],
   "source": [
    "#Your code here; import necessary packages\n",
    "import sqlite3\n",
    "conn = sqlite3.connect('school.sqlite')\n",
    "c = conn.cursor()"
   ]
  },
  {
   "cell_type": "code",
   "execution_count": 50,
   "metadata": {},
   "outputs": [],
   "source": [
    "#Your code here; create the database school.sqlite"
   ]
  },
  {
   "cell_type": "markdown",
   "metadata": {},
   "source": [
    "## Create a Table for Contact Information\n",
    "\n",
    "Create a table called contactInfo to house contact information for both students and staff. Be sure to include columns for first name, last name, role (student/staff), email, telephone number, street, city, state and zipcode. Be sure to also create a primary key for the table. "
   ]
  },
  {
   "cell_type": "code",
   "execution_count": 51,
   "metadata": {},
   "outputs": [],
   "source": [
    "#Your code here\n",
    "import pickle\n",
    "import pandas as pd\n",
    "\n",
    "with open('contact_list.pickle', 'rb') as f:\n",
    "    contacts = pickle.load(f)\n"
   ]
  },
  {
   "cell_type": "code",
   "execution_count": 52,
   "metadata": {},
   "outputs": [
    {
     "data": {
      "text/plain": [
       "[{'firstName': 'Christine',\n",
       "  'lastName': 'Holden',\n",
       "  'role': 'staff',\n",
       "  'telephone ': 2035687697,\n",
       "  'street': '1672 Whitman Court',\n",
       "  'city': 'Stamford',\n",
       "  'state': 'CT',\n",
       "  'zipcode ': '06995'},\n",
       " {'firstName': 'Christopher',\n",
       "  'lastName': 'Warren',\n",
       "  'role': 'student',\n",
       "  'telephone ': 2175150957,\n",
       "  'street': '1935 University Hill Road',\n",
       "  'city': 'Champaign',\n",
       "  'state': 'IL',\n",
       "  'zipcode ': '61938'},\n",
       " {'firstName': 'Linda',\n",
       "  'lastName': 'Jacobson',\n",
       "  'role': 'staff',\n",
       "  'telephone ': 4049446441,\n",
       "  'street': '479 Musgrave Street',\n",
       "  'city': 'Atlanta',\n",
       "  'state': 'GA',\n",
       "  'zipcode ': '30303'},\n",
       " {'firstName': 'Andrew',\n",
       "  'lastName': 'Stepp',\n",
       "  'role': 'student',\n",
       "  'telephone ': 7866419252,\n",
       "  'street': '2981 Lamberts Branch Road',\n",
       "  'city': 'Hialeah',\n",
       "  'state': 'Fl',\n",
       "  'zipcode ': '33012'},\n",
       " {'firstName': 'Jane',\n",
       "  'lastName': 'Evans',\n",
       "  'role': 'student',\n",
       "  'telephone ': 3259909290,\n",
       "  'street': '1461 Briarhill Lane',\n",
       "  'city': 'Abilene',\n",
       "  'state': 'TX',\n",
       "  'zipcode ': '79602'},\n",
       " {'firstName': 'Jane',\n",
       "  'lastName': 'Evans',\n",
       "  'role': 'student',\n",
       "  'telephone ': 3259909290,\n",
       "  'street': '1461 Briarhill Lane',\n",
       "  'city': 'Abilene',\n",
       "  'state': 'TX',\n",
       "  'zipcode ': '79602'},\n",
       " {'firstName': 'Mary',\n",
       "  'lastName': 'Raines',\n",
       "  'role': 'student',\n",
       "  'telephone ': 9075772295,\n",
       "  'street': '3975 Jerry Toth Drive',\n",
       "  'city': 'Ninilchik',\n",
       "  'state': 'AK',\n",
       "  'zipcode ': '99639'},\n",
       " {'firstName': 'Ed',\n",
       "  'lastName': 'Lyman',\n",
       "  'role': 'student',\n",
       "  'telephone ': 5179695576,\n",
       "  'street': '3478 Be Sreet',\n",
       "  'city': 'Lansing',\n",
       "  'state': 'MI',\n",
       "  'zipcode ': '48933'}]"
      ]
     },
     "execution_count": 52,
     "metadata": {},
     "output_type": "execute_result"
    }
   ],
   "source": [
    "contacts"
   ]
  },
  {
   "cell_type": "markdown",
   "metadata": {},
   "source": [
    "## Populate the Table\n",
    "\n",
    "Below, code is provided for you in order to load a list of dictionaries. Briefly examine the list. Each dictionary in the list will serve as an entry for your contact info table. Once you've briefly investigated the structure of this data, write a for loop to iterate through the list and create an entry in your table for each person's contact info."
   ]
  },
  {
   "cell_type": "code",
   "execution_count": 53,
   "metadata": {},
   "outputs": [
    {
     "ename": "OperationalError",
     "evalue": "table contactInfo already exists",
     "output_type": "error",
     "traceback": [
      "\u001b[0;31m\u001b[0m",
      "\u001b[0;31mOperationalError\u001b[0mTraceback (most recent call last)",
      "\u001b[0;32m<ipython-input-53-4c8f027aa98b>\u001b[0m in \u001b[0;36m<module>\u001b[0;34m()\u001b[0m\n\u001b[1;32m      9\u001b[0m             \u001b[0mstreet\u001b[0m \u001b[0mvarchar\u001b[0m\u001b[0;34m(\u001b[0m\u001b[0;36m255\u001b[0m\u001b[0;34m)\u001b[0m\u001b[0;34m,\u001b[0m\u001b[0;34m\u001b[0m\u001b[0m\n\u001b[1;32m     10\u001b[0m             \u001b[0mtelephone\u001b[0m \u001b[0mvarchar\u001b[0m\u001b[0;34m(\u001b[0m\u001b[0;36m255\u001b[0m\u001b[0;34m)\u001b[0m\u001b[0;34m,\u001b[0m\u001b[0;34m\u001b[0m\u001b[0m\n\u001b[0;32m---> 11\u001b[0;31m             zipcode varchar(255))\"\"\")\n\u001b[0m",
      "\u001b[0;31mOperationalError\u001b[0m: table contactInfo already exists"
     ]
    }
   ],
   "source": [
    "# Code to load the list of dictionaries; just run this cell\n",
    "c.execute(\"\"\"CREATE TABLE contactInfo (\n",
    "            ID integer primary key,\n",
    "            city varchar(255),\n",
    "            firstName varchar(255),\n",
    "            lastName varchar(255),\n",
    "            role varchar(255),\n",
    "            state varchar(255),\n",
    "            street varchar(255),\n",
    "            telephone varchar(255),\n",
    "            zipcode varchar(255))\"\"\")"
   ]
  },
  {
   "cell_type": "code",
   "execution_count": 55,
   "metadata": {},
   "outputs": [],
   "source": [
    "for contact in contacts:\n",
    "    city1 = contact['city']\n",
    "    firstName1 = contact['firstName']\n",
    "    lastName1 = contact['lastName']\n",
    "    role1 = contact['role']\n",
    "    phone1 = contact['telephone ']\n",
    "    state1 = contact['state']\n",
    "    street1 = contact['street']\n",
    "    zipcode1 = contact['zipcode ']\n",
    "    c.execute(\"\"\"INSERT INTO contactInfo (city, firstName, lastName, role, state, street, telephone, zipcode)\n",
    "                  VALUES (\"{}\", \"{}\", \"{}\", \"{}\", \"{}\", \"{}\", \"{}\", \"{}\");\n",
    "            \"\"\".format(city1, firstName1, lastName1, role1, state1, street1, phone1, zipcode1)\n",
    "             )"
   ]
  },
  {
   "cell_type": "code",
   "execution_count": 56,
   "metadata": {},
   "outputs": [
    {
     "data": {
      "text/html": [
       "<div>\n",
       "<style scoped>\n",
       "    .dataframe tbody tr th:only-of-type {\n",
       "        vertical-align: middle;\n",
       "    }\n",
       "\n",
       "    .dataframe tbody tr th {\n",
       "        vertical-align: top;\n",
       "    }\n",
       "\n",
       "    .dataframe thead th {\n",
       "        text-align: right;\n",
       "    }\n",
       "</style>\n",
       "<table border=\"1\" class=\"dataframe\">\n",
       "  <thead>\n",
       "    <tr style=\"text-align: right;\">\n",
       "      <th></th>\n",
       "      <th>ID</th>\n",
       "      <th>city</th>\n",
       "      <th>firstName</th>\n",
       "      <th>lastName</th>\n",
       "      <th>role</th>\n",
       "      <th>state</th>\n",
       "      <th>street</th>\n",
       "      <th>telephone</th>\n",
       "      <th>zipcode</th>\n",
       "    </tr>\n",
       "  </thead>\n",
       "  <tbody>\n",
       "    <tr>\n",
       "      <th>0</th>\n",
       "      <td>1</td>\n",
       "      <td>Stamford</td>\n",
       "      <td>Christine</td>\n",
       "      <td>Holden</td>\n",
       "      <td>staff</td>\n",
       "      <td>CT</td>\n",
       "      <td>1672 Whitman Court</td>\n",
       "      <td>2035687697</td>\n",
       "      <td>06995</td>\n",
       "    </tr>\n",
       "    <tr>\n",
       "      <th>1</th>\n",
       "      <td>2</td>\n",
       "      <td>Champaign</td>\n",
       "      <td>Christopher</td>\n",
       "      <td>Warren</td>\n",
       "      <td>student</td>\n",
       "      <td>IL</td>\n",
       "      <td>1935 University Hill Road</td>\n",
       "      <td>2175150957</td>\n",
       "      <td>61938</td>\n",
       "    </tr>\n",
       "    <tr>\n",
       "      <th>2</th>\n",
       "      <td>3</td>\n",
       "      <td>Atlanta</td>\n",
       "      <td>Linda</td>\n",
       "      <td>Jacobson</td>\n",
       "      <td>staff</td>\n",
       "      <td>GA</td>\n",
       "      <td>479 Musgrave Street</td>\n",
       "      <td>4049446441</td>\n",
       "      <td>30303</td>\n",
       "    </tr>\n",
       "    <tr>\n",
       "      <th>3</th>\n",
       "      <td>4</td>\n",
       "      <td>Hialeah</td>\n",
       "      <td>Andrew</td>\n",
       "      <td>Stepp</td>\n",
       "      <td>student</td>\n",
       "      <td>Fl</td>\n",
       "      <td>2981 Lamberts Branch Road</td>\n",
       "      <td>7866419252</td>\n",
       "      <td>33012</td>\n",
       "    </tr>\n",
       "    <tr>\n",
       "      <th>4</th>\n",
       "      <td>5</td>\n",
       "      <td>Abilene</td>\n",
       "      <td>Jane</td>\n",
       "      <td>Evans</td>\n",
       "      <td>student</td>\n",
       "      <td>TX</td>\n",
       "      <td>1461 Briarhill Lane</td>\n",
       "      <td>3259909290</td>\n",
       "      <td>79602</td>\n",
       "    </tr>\n",
       "    <tr>\n",
       "      <th>5</th>\n",
       "      <td>6</td>\n",
       "      <td>Abilene</td>\n",
       "      <td>Jane</td>\n",
       "      <td>Evans</td>\n",
       "      <td>student</td>\n",
       "      <td>TX</td>\n",
       "      <td>1461 Briarhill Lane</td>\n",
       "      <td>3259909290</td>\n",
       "      <td>79602</td>\n",
       "    </tr>\n",
       "    <tr>\n",
       "      <th>6</th>\n",
       "      <td>7</td>\n",
       "      <td>Ninilchik</td>\n",
       "      <td>Mary</td>\n",
       "      <td>Raines</td>\n",
       "      <td>student</td>\n",
       "      <td>AK</td>\n",
       "      <td>3975 Jerry Toth Drive</td>\n",
       "      <td>9075772295</td>\n",
       "      <td>99639</td>\n",
       "    </tr>\n",
       "    <tr>\n",
       "      <th>7</th>\n",
       "      <td>8</td>\n",
       "      <td>Lansing</td>\n",
       "      <td>Ed</td>\n",
       "      <td>Lyman</td>\n",
       "      <td>student</td>\n",
       "      <td>MI</td>\n",
       "      <td>3478 Be Sreet</td>\n",
       "      <td>5179695576</td>\n",
       "      <td>48933</td>\n",
       "    </tr>\n",
       "  </tbody>\n",
       "</table>\n",
       "</div>"
      ],
      "text/plain": [
       "   ID       city    firstName  lastName     role state  \\\n",
       "0   1   Stamford    Christine    Holden    staff    CT   \n",
       "1   2  Champaign  Christopher    Warren  student    IL   \n",
       "2   3    Atlanta        Linda  Jacobson    staff    GA   \n",
       "3   4    Hialeah       Andrew     Stepp  student    Fl   \n",
       "4   5    Abilene         Jane     Evans  student    TX   \n",
       "5   6    Abilene         Jane     Evans  student    TX   \n",
       "6   7  Ninilchik         Mary    Raines  student    AK   \n",
       "7   8    Lansing           Ed     Lyman  student    MI   \n",
       "\n",
       "                      street   telephone zipcode  \n",
       "0         1672 Whitman Court  2035687697   06995  \n",
       "1  1935 University Hill Road  2175150957   61938  \n",
       "2        479 Musgrave Street  4049446441   30303  \n",
       "3  2981 Lamberts Branch Road  7866419252   33012  \n",
       "4        1461 Briarhill Lane  3259909290   79602  \n",
       "5        1461 Briarhill Lane  3259909290   79602  \n",
       "6      3975 Jerry Toth Drive  9075772295   99639  \n",
       "7              3478 Be Sreet  5179695576   48933  "
      ]
     },
     "execution_count": 56,
     "metadata": {},
     "output_type": "execute_result"
    }
   ],
   "source": [
    "# Your code to iterate over the contact list and populate the contactInfo table here\n",
    "d = pd.DataFrame(c.execute(\"\"\"select * from contactInfo\"\"\").fetchall())\n",
    "d.columns = [x[0] for x in c.description]\n",
    "d"
   ]
  },
  {
   "cell_type": "code",
   "execution_count": 57,
   "metadata": {},
   "outputs": [
    {
     "data": {
      "text/plain": [
       "<sqlite3.Cursor at 0x7f081a48bf80>"
      ]
     },
     "execution_count": 57,
     "metadata": {},
     "output_type": "execute_result"
    }
   ],
   "source": [
    "# Query the Table to Ensure it is populated\n",
    "c.execute(\"\"\"SELECT * FROM contacts\"\"\")"
   ]
  },
  {
   "cell_type": "code",
   "execution_count": 58,
   "metadata": {},
   "outputs": [],
   "source": [
    "#Your code here"
   ]
  },
  {
   "cell_type": "markdown",
   "metadata": {},
   "source": [
    "## Commit Your Changes to the Database\n",
    "\n",
    "Persist your changes by committing them to the database."
   ]
  },
  {
   "cell_type": "code",
   "execution_count": 59,
   "metadata": {},
   "outputs": [],
   "source": [
    "#Your code here\n",
    "conn.commit()"
   ]
  },
  {
   "cell_type": "markdown",
   "metadata": {},
   "source": [
    "## Create a Table for Student Grades\n",
    "\n",
    "Create a new table in the database called \"grades\". In the table, include the following fields: userId, courseId, grade.\n",
    "\n",
    "** This problem is a bit more tricky and will require a dual key. (A nuance you have yet to see.)\n",
    "Here's how to do that:\n",
    "\n",
    "```SQL\n",
    "CREATE TABLE table_name(\n",
    "   column_1 INTEGER NOT NULL,\n",
    "   column_2 INTEGER NOT NULL,\n",
    "   ...\n",
    "   PRIMARY KEY(column_1,column_2,...)\n",
    ");\n",
    "```"
   ]
  },
  {
   "cell_type": "code",
   "execution_count": 61,
   "metadata": {},
   "outputs": [
    {
     "data": {
      "text/plain": [
       "<sqlite3.Cursor at 0x7f081a48bf80>"
      ]
     },
     "execution_count": 61,
     "metadata": {},
     "output_type": "execute_result"
    }
   ],
   "source": [
    "#Your code here; create the grades table.\n",
    "c.execute(\"\"\"CREATE TABLE grade(\n",
    "   userID INTEGER NOT NULL,\n",
    "   courseID INTEGER NOT NULL,\n",
    "   grade INTEGER NOT NULL,\n",
    "   PRIMARY KEY(userID,courseID)\n",
    "   );\"\"\")"
   ]
  },
  {
   "cell_type": "markdown",
   "metadata": {},
   "source": [
    "## Remove Duplicate Entries\n",
    "\n",
    "An analyst just realized that there is a duplicate entry in the contactInfo table! Find and remove it."
   ]
  },
  {
   "cell_type": "code",
   "execution_count": 62,
   "metadata": {},
   "outputs": [
    {
     "data": {
      "text/plain": [
       "[('Jane', 'Evans', '3259909290', 2)]"
      ]
     },
     "execution_count": 62,
     "metadata": {},
     "output_type": "execute_result"
    }
   ],
   "source": [
    "#Your code here; find the duplicate entry\n",
    "c.execute(\"\"\"select firstName, lastName, telephone,\n",
    "                      count(*) from contactInfo\n",
    "                      group by 1\n",
    "                      having count(*) > 1;\"\"\").fetchall()"
   ]
  },
  {
   "cell_type": "code",
   "execution_count": 64,
   "metadata": {},
   "outputs": [
    {
     "data": {
      "text/plain": [
       "<sqlite3.Cursor at 0x7f081a48bf80>"
      ]
     },
     "execution_count": 64,
     "metadata": {},
     "output_type": "execute_result"
    }
   ],
   "source": [
    "#Your code here; delete the duplicate entry\n",
    "c.execute(\"\"\"delete from contacts where telephone = '3259909290';\"\"\")"
   ]
  },
  {
   "cell_type": "code",
   "execution_count": null,
   "metadata": {},
   "outputs": [],
   "source": [
    "#Your code here; check that the duplicate entry was removed.\n"
   ]
  },
  {
   "cell_type": "markdown",
   "metadata": {},
   "source": [
    "## Updating an Address\n",
    "\n",
    "Ed Lyman just moved to 2910 Simpson Avenue York, PA 17403. Update his address accordingly."
   ]
  },
  {
   "cell_type": "code",
   "execution_count": null,
   "metadata": {},
   "outputs": [],
   "source": [
    "#Your code here; update Ed's address"
   ]
  },
  {
   "cell_type": "markdown",
   "metadata": {},
   "source": [
    "## Commit Your Changes to the Database\n",
    "\n",
    "Once again, persist your changes by committing them to the database."
   ]
  },
  {
   "cell_type": "code",
   "execution_count": null,
   "metadata": {},
   "outputs": [],
   "source": [
    "#Your code here"
   ]
  },
  {
   "cell_type": "markdown",
   "metadata": {},
   "source": [
    "## Summary\n",
    "\n",
    "While there's certainly more to do with setting up and managing this database, you certainly got a taste for creating, populating and maintaining databases! Feel free to continue fleshing out this exercise to continue practicing. "
   ]
  }
 ],
 "metadata": {
  "kernelspec": {
   "display_name": "Python 3",
   "language": "python",
   "name": "python3"
  },
  "language_info": {
   "codemirror_mode": {
    "name": "ipython",
    "version": 3
   },
   "file_extension": ".py",
   "mimetype": "text/x-python",
   "name": "python",
   "nbconvert_exporter": "python",
   "pygments_lexer": "ipython3",
   "version": "3.6.6"
  }
 },
 "nbformat": 4,
 "nbformat_minor": 2
}
